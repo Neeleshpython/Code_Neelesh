{
 "cells": [
  {
   "cell_type": "code",
   "execution_count": 1,
   "id": "9883b688-1eee-4f6d-896d-cf70e712ffb8",
   "metadata": {},
   "outputs": [
    {
     "name": "stdout",
     "output_type": "stream",
     "text": [
      "Welcome to Moonlight Cafe\n",
      "Frappe 200\n",
      "Cold Coffee 200\n",
      "Drip Coffee 190\n"
     ]
    },
    {
     "name": "stdin",
     "output_type": "stream",
     "text": [
      "Please place your order here: 200\n"
     ]
    },
    {
     "name": "stdout",
     "output_type": "stream",
     "text": [
      "Invalid Order!\n",
      "Frappe 200\n",
      "Cold Coffee 200\n",
      "Drip Coffee 190\n"
     ]
    },
    {
     "name": "stdin",
     "output_type": "stream",
     "text": [
      "Please place your order here: 200\n"
     ]
    },
    {
     "name": "stdout",
     "output_type": "stream",
     "text": [
      "Invalid Order!\n",
      "Frappe 200\n",
      "Cold Coffee 200\n",
      "Drip Coffee 190\n"
     ]
    },
    {
     "name": "stdin",
     "output_type": "stream",
     "text": [
      "Please place your order here: yes\n"
     ]
    },
    {
     "name": "stdout",
     "output_type": "stream",
     "text": [
      "Invalid Order!\n",
      "Frappe 200\n",
      "Cold Coffee 200\n",
      "Drip Coffee 190\n"
     ]
    },
    {
     "name": "stdin",
     "output_type": "stream",
     "text": [
      "Please place your order here: 200\n"
     ]
    },
    {
     "name": "stdout",
     "output_type": "stream",
     "text": [
      "Invalid Order!\n",
      "Frappe 200\n",
      "Cold Coffee 200\n",
      "Drip Coffee 190\n"
     ]
    },
    {
     "name": "stdin",
     "output_type": "stream",
     "text": [
      "Please place your order here: cold coffee\n"
     ]
    },
    {
     "name": "stdout",
     "output_type": "stream",
     "text": [
      "Preparing your Cold Coffee\n",
      "Your order is ready!\n",
      "Please enjoy your Cold Coffee\n"
     ]
    },
    {
     "name": "stdin",
     "output_type": "stream",
     "text": [
      "Do you want to order again? no\n"
     ]
    },
    {
     "name": "stdout",
     "output_type": "stream",
     "text": [
      "Your Total Bill: 200\n"
     ]
    },
    {
     "name": "stdin",
     "output_type": "stream",
     "text": [
      "Please pay your bill here: 200\n"
     ]
    },
    {
     "name": "stdout",
     "output_type": "stream",
     "text": [
      "Thank you for visiting Moonlight Cafe\n"
     ]
    }
   ],
   "source": [
    "class RMS:\n",
    "    #RMS (Restaurant Management System)\n",
    "    def __init__(self,restaurant_name,restaurant_menu):\n",
    "        self.user_bill=0\n",
    "        self.user_order=''\n",
    "        self.user_pay=0\n",
    "        self.menu=restaurant_menu\n",
    "        self.rest_name=restaurant_name\n",
    "        \n",
    "    def welcome_user(self):\n",
    "        #Welcome User\n",
    "        print('Welcome to',self.rest_name)\n",
    "    \n",
    "    def display_menu(self):\n",
    "        \n",
    "        #Display Menu\n",
    "        for i in self.menu:\n",
    "            print(i.title(),self.menu[i])\n",
    "    \n",
    "    \n",
    "    def take_order(self):#Take Order\n",
    "        \n",
    "        self.user_order=input('Please place your order here:')\n",
    "    \n",
    "    \n",
    "    def prepare_order(self):#Prepare Order\n",
    "        \n",
    "        import time \n",
    "        print('Preparing your',self.user_order.title())\n",
    "        time.sleep(0.5)\n",
    "        self.user_bill=self.user_bill+self.menu[self.user_order]\n",
    "    def serve_order(self):#Serve Order\n",
    "        print('Your order is ready!')\n",
    "        print('Please enjoy your',self.user_order.title())\n",
    "    \n",
    "    def display_bill(self):#Display Bill\n",
    "        print('Your Total Bill:',self.user_bill)\n",
    "        \n",
    "    def verify_payment(self):#Verify Payment\n",
    "        \n",
    "        self.user_pay=int(input('Please pay your bill here:'))\n",
    "        \n",
    "        while self.user_pay<self.user_bill:\n",
    "            print('Invalid Payment!')\n",
    "            self.user_bill=self.user_bill-self.user_pay\n",
    "            print('Please pay remaining',self.user_bill)\n",
    "            self.user_pay=int(input('Please pay your bill here:'))\n",
    "            \n",
    "        if self.user_pay>self.user_bill:\n",
    "            print('Payment Successful!')\n",
    "            print('Here is your change:',self.user_pay-self.user_bill)\n",
    "        else:\n",
    "            pass\n",
    "    def thank_user(self):#Thank User\n",
    "        print('Thank you for visiting',self.rest_name)\n",
    "        \n",
    "    def order_process(self):\n",
    "        self.display_menu()\n",
    "        self.take_order()\n",
    "        \n",
    "        if self.user_order.lower() in self.menu:\n",
    "            self.prepare_order()\n",
    "            self.serve_order()\n",
    "            self.user_rep=input('Do you want to order again?')\n",
    "            while self.user_rep.lower()=='yes':\n",
    "                self.repeat_order()\n",
    "                self.user_rep=input('Do you want to order again?')\n",
    "                    \n",
    "            self.display_bill()\n",
    "            self.verify_payment()\n",
    "            self.thank_user()\n",
    "        else:\n",
    "            print('Invalid Order!')\n",
    "            self.order_process()\n",
    "            \n",
    "    def repeat_order(self):\n",
    "        self.display_menu()\n",
    "        self.take_order()\n",
    "        if self.user_order.lower() in self.menu:\n",
    "            self.prepare_order()\n",
    "            self.serve_order()\n",
    "        else:\n",
    "            print('Invalid Order')\n",
    "            self.repeat_order()\n",
    "\n",
    "rn='Moonlight Cafe'\n",
    "rm={'frappe':200,'cold coffee':200,'drip coffee':190}\n",
    "moonlight_cafe=RMS(rn,rm)\n",
    "\n",
    "moonlight_cafe.welcome_user()\n",
    "moonlight_cafe.order_process()\n",
    "\n",
    "          \n",
    "\n"
   ]
  },
  {
   "cell_type": "code",
   "execution_count": 7,
   "id": "8ac360de-72ec-430f-9ac3-7738d7c8d9c3",
   "metadata": {},
   "outputs": [
    {
     "name": "stdout",
     "output_type": "stream",
     "text": [
      "Frappe 200\n",
      "Cold Coffee 200\n",
      "Drip Coffee 190\n"
     ]
    },
    {
     "name": "stdin",
     "output_type": "stream",
     "text": [
      "Please place your order here: cold coffee\n"
     ]
    },
    {
     "name": "stdout",
     "output_type": "stream",
     "text": [
      "Preparing your Cold Coffee\n",
      "Your order is ready!\n",
      "Please enjoy your Cold Coffee\n"
     ]
    },
    {
     "name": "stdin",
     "output_type": "stream",
     "text": [
      "Do you want to order again? no\n"
     ]
    },
    {
     "name": "stdout",
     "output_type": "stream",
     "text": [
      "Your Total Bill: 400\n"
     ]
    },
    {
     "name": "stdin",
     "output_type": "stream",
     "text": [
      "Please pay your bill here: 500\n"
     ]
    },
    {
     "name": "stdout",
     "output_type": "stream",
     "text": [
      "Payment Successful!\n",
      "Here is your change: 100\n",
      "Thank you for visiting Moonlight Cafe\n"
     ]
    }
   ],
   "source": [
    "#import Liabrary\n",
    "import tkinter as tk\n",
    "#create Window\n",
    "window=tk.Tk()\n",
    "#Change title of window\n",
    "window.title('RMS')\n",
    "# change window size\n",
    "window.geometry('400x400')\n",
    "#window buttons and Lable\n",
    "tk.Label(window,text='Welcome to',font=('Times now',9)).place (x=160,y=20)\n",
    "tk.Label(window,text='Moonlight Cafe',font=('Times now',19)).place(x=110,y=60)\n",
    "tk.Button(window,text='Menu Card',width=20,command=moonlight_cafe.order_process).place(x=120,y=150)\n",
    "# mainloon command \n",
    "window.mainloop()"
   ]
  },
  {
   "cell_type": "code",
   "execution_count": null,
   "id": "4967ebcc-1e2b-4108-bec4-157649e0255b",
   "metadata": {},
   "outputs": [],
   "source": []
  },
  {
   "cell_type": "code",
   "execution_count": null,
   "id": "e8298742-4cba-4fa2-906a-617e222ef99b",
   "metadata": {},
   "outputs": [],
   "source": []
  }
 ],
 "metadata": {
  "kernelspec": {
   "display_name": "Python 3 (ipykernel)",
   "language": "python",
   "name": "python3"
  },
  "language_info": {
   "codemirror_mode": {
    "name": "ipython",
    "version": 3
   },
   "file_extension": ".py",
   "mimetype": "text/x-python",
   "name": "python",
   "nbconvert_exporter": "python",
   "pygments_lexer": "ipython3",
   "version": "3.12.4"
  }
 },
 "nbformat": 4,
 "nbformat_minor": 5
}
